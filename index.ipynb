{
 "cells": [
  {
   "cell_type": "markdown",
   "metadata": {},
   "source": [
    "# Regression with Regularization Lab\n",
    "\n",
    "## LASSO and Ridge Regression\n",
    "\n",
    "## Objectives\n",
    "\n",
    "* Compare and contrast L1 and L2 regularization\n",
    "* Implement `sklearn`'s LASSO regressor \n",
    "* Implement `sklearn`'s Ridge regressor\n",
    "* Use regression with regularization to prevent overfitting on high-dimensional datasets\n",
    "\n",
    "## Getting Started: What is Regularization?\n",
    "\n"
   ]
  },
  {
   "cell_type": "code",
   "execution_count": null,
   "metadata": {},
   "outputs": [],
   "source": []
  }
 ],
 "metadata": {
  "kernelspec": {
   "display_name": "Python 3",
   "language": "python",
   "name": "python3"
  },
  "language_info": {
   "codemirror_mode": {
    "name": "ipython",
    "version": 3
   },
   "file_extension": ".py",
   "mimetype": "text/x-python",
   "name": "python",
   "nbconvert_exporter": "python",
   "pygments_lexer": "ipython3",
   "version": "3.6.4"
  }
 },
 "nbformat": 4,
 "nbformat_minor": 2
}
